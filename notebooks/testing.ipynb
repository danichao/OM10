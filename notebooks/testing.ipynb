{
 "cells": [
  {
   "cell_type": "code",
   "execution_count": 4,
   "metadata": {
    "collapsed": false,
    "scrolled": false
   },
   "outputs": [],
   "source": [
    "%matplotlib inline\n",
    "import om10,os\n",
    "db = om10.DB(catalog=os.path.expandvars(\"$OM10_DIR/data/qso_mock.fits\"))"
   ]
  },
  {
   "cell_type": "code",
   "execution_count": 5,
   "metadata": {
    "collapsed": false
   },
   "outputs": [
    {
     "name": "stdout",
     "output_type": "stream",
     "text": [
      "['LENSID', 'FLAGTYPE', 'NIMG', 'ZLENS', 'VELDISP', 'ELLIP', 'PHIE', 'GAMMA', 'PHIG', 'ZSRC', 'XSRC', 'YSRC', 'MAGI_IN', 'MAGI', 'IMSEP', 'XIMG', 'YIMG', 'MAG', 'DELAY', 'KAPPA', 'FSTAR', 'DD', 'DDLUM', 'ABMAG_I', 'APMAG_I', 'KCORR', 'DS', 'DDS', 'SIGCRIT', 'DSLUM', 'L_I', 'REFF', 'REFF_T']\n"
     ]
    }
   ],
   "source": [
    "print db.lenses.names"
   ]
  },
  {
   "cell_type": "code",
   "execution_count": 6,
   "metadata": {
    "collapsed": false
   },
   "outputs": [
    {
     "name": "stdout",
     "output_type": "stream",
     "text": [
      "om10.DB: read in LRG sky position data from  /Users/mbaumer/pybin/OM10/data/CFHTLS_LRGs.txt\n",
      "Mean LRG RA,DEC,z,i =  34.3807307408 -7.09643979181 0.612498 21.63331883\n",
      "om10.DB: number of LRGs stored =  10000\n",
      "size is  15658\n",
      "setup done\n",
      "analysing lens 0\n",
      "analysing lens 1\n",
      "analysing lens 2\n",
      "analysing lens 3\n",
      "analysing lens 4\n",
      "analysing lens 5\n",
      "analysing lens 6\n",
      "analysing lens 7\n",
      "analysing lens 8\n",
      "analysing lens 9\n"
     ]
    }
   ],
   "source": [
    "db.get_sky_positions()\n",
    "db.assign_sky_positions()\n",
    "db.paint(Nmax=10)"
   ]
  },
  {
   "cell_type": "code",
   "execution_count": 7,
   "metadata": {
    "collapsed": false
   },
   "outputs": [
    {
     "name": "stdout",
     "output_type": "stream",
     "text": [
      "['LENSID', 'FLAGTYPE', 'NIMG', 'ZLENS', 'VELDISP', 'ELLIP', 'PHIE', 'GAMMA', 'PHIG', 'ZSRC', 'XSRC', 'YSRC', 'MAGI_IN', 'MAGI', 'IMSEP', 'XIMG', 'YIMG', 'MAG', 'DELAY', 'KAPPA', 'FSTAR', 'DD', 'DDLUM', 'ABMAG_I', 'APMAG_I', 'KCORR', 'DS', 'DDS', 'SIGCRIT', 'DSLUM', 'L_I', 'REFF', 'REFF_T', 'RA   ', 'DEC   ', 'MAGG_LENS   ', 'MAGR_LENS   ', 'MAGI_LENS   ', 'MAGZ_LENS   ', 'MAGW1_LENS   ', 'MAGW2_LENS   ', 'MAGW3_LENS   ', 'MAGW4_LENS   ', 'MAGG_SRC   ', 'MAGR_SRC   ', 'MAGI_SRC   ', 'MAGZ_SRC   ', 'MAGW1_SRC   ', 'MAGW2_SRC   ', 'MAGW3_SRC   ', 'MAGW4_SRC   ', 'SDSS_FLAG_LENS   ', 'SDSS_FLAG_SRC   ']\n"
     ]
    }
   ],
   "source": [
    "print db.lenses.names"
   ]
  },
  {
   "cell_type": "code",
   "execution_count": 39,
   "metadata": {
    "collapsed": false
   },
   "outputs": [
    {
     "name": "stdout",
     "output_type": "stream",
     "text": [
      "2.76681086013 22.51 21.93714\n"
     ]
    }
   ],
   "source": [
    "print db.lenses.MAGW3_SRC[2], db.lenses.MAGI_IN[2], db.lenses.MAGI[2]"
   ]
  },
  {
   "cell_type": "code",
   "execution_count": 25,
   "metadata": {
    "collapsed": false
   },
   "outputs": [
    {
     "name": "stdout",
     "output_type": "stream",
     "text": [
      "om10.DB: selection yields  1  lenses\n",
      "[ 23.93] [ 0.]\n"
     ]
    }
   ],
   "source": [
    "db.select_random(Nlens=1)\n",
    "test = db.get_lens(db.sample.LENSID)\n",
    "print test['MAGI_IN'], test['MAGI_SRC']"
   ]
  },
  {
   "cell_type": "code",
   "execution_count": null,
   "metadata": {
    "collapsed": true
   },
   "outputs": [],
   "source": []
  }
 ],
 "metadata": {
  "kernelspec": {
   "display_name": "Python 2",
   "language": "python",
   "name": "python2"
  },
  "language_info": {
   "codemirror_mode": {
    "name": "ipython",
    "version": 2
   },
   "file_extension": ".py",
   "mimetype": "text/x-python",
   "name": "python",
   "nbconvert_exporter": "python",
   "pygments_lexer": "ipython2",
   "version": "2.7.9"
  }
 },
 "nbformat": 4,
 "nbformat_minor": 0
}
