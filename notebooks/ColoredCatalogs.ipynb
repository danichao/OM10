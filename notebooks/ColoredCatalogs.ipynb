{
 "cells": [
  {
   "cell_type": "markdown",
   "metadata": {},
   "source": [
    "#How to Make your own OM10 sim input catalogs in 4 easy steps"
   ]
  },
  {
   "cell_type": "code",
   "execution_count": 12,
   "metadata": {
    "collapsed": true
   },
   "outputs": [],
   "source": [
    "%matplotlib inline\n",
    "import om10,os\n",
    "import numpy as np\n",
    "import matplotlib.pyplot as plt\n",
    "import triangle"
   ]
  },
  {
   "cell_type": "code",
   "execution_count": 2,
   "metadata": {
    "collapsed": false
   },
   "outputs": [],
   "source": [
    "db = om10.DB(catalog=os.path.expandvars(\"$OM10_DIR/data/qso_mock.fits\"))"
   ]
  },
  {
   "cell_type": "markdown",
   "metadata": {},
   "source": [
    "#1. Load your pre-simulated lenses\n",
    "Load the catalog of simulated lenses. Pandas interface between FITS tables and DataFrames only exists in the dev version of astropy, so use native astropy tables for now!"
   ]
  },
  {
   "cell_type": "code",
   "execution_count": 3,
   "metadata": {
    "collapsed": false
   },
   "outputs": [
    {
     "name": "stdout",
     "output_type": "stream",
     "text": [
      "  LENSID  FLAGTYPE NIMG ZLENS VELDISP  ... SIGCRIT  DSLUM  L_I REFF REFF_T\n",
      "--------- -------- ---- ----- -------- ... ------- ------- --- ---- ------\n",
      "    14428        0    2 0.062 264.2409 ...     0.0 35956.6 0.0  0.0    0.0\n",
      "    21703        0    2 0.072 165.1962 ...     0.0  8193.9 0.0  0.0    0.0\n",
      "    31711        0    2 0.082 155.9553 ...     0.0 35956.6 0.0  0.0    0.0\n",
      "    34331        0    2 0.084 172.5838 ...     0.0 14498.4 0.0  0.0    0.0\n",
      "    51810        0    2 0.096 244.9063 ...     0.0 26239.2 0.0  0.0    0.0\n",
      "    83414        0    2 0.114   154.17 ...     0.0 11904.1 0.0  0.0    0.0\n",
      "   115074        0    2 0.128 113.5011 ...     0.0 7101.16 0.0  0.0    0.0\n",
      "   125027        0    2  0.13 247.1724 ...     0.0 16302.5 0.0  0.0    0.0\n",
      "   147709        0    2 0.138 200.9093 ...     0.0 17748.4 0.0  0.0    0.0\n",
      "   180815        0    2 0.148 185.3532 ...     0.0 14029.4 0.0  0.0    0.0\n",
      "   202550        0    4 0.154  181.134 ...     0.0 8794.67 0.0  0.0    0.0\n",
      "      ...      ...  ...   ...      ... ...     ...     ... ...  ...    ...\n",
      "113167635        0    2 1.936 250.6109 ...     0.0 47637.1 0.0  0.0    0.0\n",
      "115614728        0    4  1.96 242.1029 ...     0.0 38304.5 0.0  0.0    0.0\n",
      "118666840        0    2  1.99 207.9697 ...     0.0 27265.9 0.0  0.0    0.0\n",
      "120546345        0    2 2.008 281.8383 ...     0.0 28090.1 0.0  0.0    0.0\n",
      "123598414        0    2 2.038 199.5262 ...     0.0 31000.1 0.0  0.0    0.0\n",
      "129002676        0    2  2.09 236.0478 ...     0.0 39270.7 0.0  0.0    0.0\n",
      "138366386        0    2  2.18 227.5097 ...     0.0 36169.7 0.0  0.0    0.0\n",
      "157075130        0    2 2.358 258.8213 ...     0.0 29955.8 0.0  0.0    0.0\n",
      "168229053        0    2 2.464 200.9093 ...     0.0 48954.0 0.0  0.0    0.0\n",
      "185790887        0    2  2.63 215.7744 ...     0.0 42184.9 0.0  0.0    0.0\n",
      "193208710        0    2   2.7 259.4179 ...     0.0 37235.8 0.0  0.0    0.0\n"
     ]
    }
   ],
   "source": [
    "print db.lenses"
   ]
  },
  {
   "cell_type": "markdown",
   "metadata": {},
   "source": [
    "#2. Place lenses on sky\n",
    "Read in positions, redshifts, and magnitudes of CFHTLS galaxies from file, then match with simulated lenses by nearest neighbor."
   ]
  },
  {
   "cell_type": "code",
   "execution_count": 4,
   "metadata": {
    "collapsed": false
   },
   "outputs": [
    {
     "name": "stdout",
     "output_type": "stream",
     "text": [
      "om10.DB: read in LRG sky position data from  /Users/mbaumer/pybin/OM10/data/CFHTLS_LRGs.txt\n",
      "Mean LRG RA,DEC,z,i =  34.3807307408 -7.09643979181 0.612498 21.63331883\n",
      "om10.DB: number of LRGs stored =  10000\n",
      "15658\n"
     ]
    }
   ],
   "source": [
    "db.get_sky_positions()\n",
    "db.assign_sky_positions()"
   ]
  },
  {
   "cell_type": "code",
   "execution_count": 5,
   "metadata": {
    "collapsed": false
   },
   "outputs": [
    {
     "name": "stdout",
     "output_type": "stream",
     "text": [
      "  LENSID  FLAGTYPE NIMG ZLENS VELDISP  ... L_I REFF REFF_T   RA   DEC \n",
      "--------- -------- ---- ----- -------- ... --- ---- ------ ----- -----\n",
      "    14428        0    2 0.062 264.2409 ... 0.0  0.0    0.0 -99.0 -99.0\n",
      "    21703        0    2 0.072 165.1962 ... 0.0  0.0    0.0 -99.0 -99.0\n",
      "    31711        0    2 0.082 155.9553 ... 0.0  0.0    0.0 -99.0 -99.0\n",
      "    34331        0    2 0.084 172.5838 ... 0.0  0.0    0.0 -99.0 -99.0\n",
      "    51810        0    2 0.096 244.9063 ... 0.0  0.0    0.0 -99.0 -99.0\n",
      "    83414        0    2 0.114   154.17 ... 0.0  0.0    0.0 -99.0 -99.0\n",
      "   115074        0    2 0.128 113.5011 ... 0.0  0.0    0.0 -99.0 -99.0\n",
      "   125027        0    2  0.13 247.1724 ... 0.0  0.0    0.0 -99.0 -99.0\n",
      "   147709        0    2 0.138 200.9093 ... 0.0  0.0    0.0 -99.0 -99.0\n",
      "   180815        0    2 0.148 185.3532 ... 0.0  0.0    0.0 -99.0 -99.0\n",
      "   202550        0    4 0.154  181.134 ... 0.0  0.0    0.0 -99.0 -99.0\n",
      "      ...      ...  ...   ...      ... ... ...  ...    ...   ...   ...\n",
      "113167635        0    2 1.936 250.6109 ... 0.0  0.0    0.0 -99.0 -99.0\n",
      "115614728        0    4  1.96 242.1029 ... 0.0  0.0    0.0 -99.0 -99.0\n",
      "118666840        0    2  1.99 207.9697 ... 0.0  0.0    0.0 -99.0 -99.0\n",
      "120546345        0    2 2.008 281.8383 ... 0.0  0.0    0.0 -99.0 -99.0\n",
      "123598414        0    2 2.038 199.5262 ... 0.0  0.0    0.0 -99.0 -99.0\n",
      "129002676        0    2  2.09 236.0478 ... 0.0  0.0    0.0 -99.0 -99.0\n",
      "138366386        0    2  2.18 227.5097 ... 0.0  0.0    0.0 -99.0 -99.0\n",
      "157075130        0    2 2.358 258.8213 ... 0.0  0.0    0.0 -99.0 -99.0\n",
      "168229053        0    2 2.464 200.9093 ... 0.0  0.0    0.0 -99.0 -99.0\n",
      "185790887        0    2  2.63 215.7744 ... 0.0  0.0    0.0 -99.0 -99.0\n",
      "193208710        0    2   2.7 259.4179 ... 0.0  0.0    0.0 -99.0 -99.0\n"
     ]
    }
   ],
   "source": [
    "print db.lenses"
   ]
  },
  {
   "cell_type": "markdown",
   "metadata": {},
   "source": [
    "Note that many objects have an RA,DEC of (-99,-99). This is because there were no galaxies found in the reference sample with matching magnitudes/redshifts..."
   ]
  },
  {
   "cell_type": "code",
   "execution_count": 32,
   "metadata": {
    "collapsed": false
   },
   "outputs": [
    {
     "name": "stdout",
     "output_type": "stream",
     "text": [
      "10482 15658\n"
     ]
    }
   ],
   "source": [
    "print len(db.lenses[db.lenses['RA']> 0]), len(db.lenses)"
   ]
  },
  {
   "cell_type": "markdown",
   "metadata": {},
   "source": [
    "#3. Simulate photometry\n",
    "Add photometry by finding similar objects in SDSS/WISE. This step takes a while, so one can also load up a pre-painted catalog in this directory."
   ]
  },
  {
   "cell_type": "code",
   "execution_count": 6,
   "metadata": {
    "collapsed": true
   },
   "outputs": [],
   "source": [
    "db.paint()"
   ]
  },
  {
   "cell_type": "code",
   "execution_count": 20,
   "metadata": {
    "collapsed": false
   },
   "outputs": [
    {
     "name": "stdout",
     "output_type": "stream",
     "text": [
      "  LENSID  FLAGTYPE NIMG ZLENS ...   MAGW3_SRC     MAGW4_SRC   SDSS_FLAG_SRC\n",
      "--------- -------- ---- ----- ... ------------- ------------- -------------\n",
      "    14428        0    2 0.062 ...  2.8329897868 2.05328516341           2.0\n",
      "    21703        0    2 0.072 ... 2.76149741291 2.06557386144           2.0\n",
      "    31711        0    2 0.082 ... 2.72177852159 1.97124268902           1.0\n",
      "    34331        0    2 0.084 ... 3.00424885671 2.15719928739           1.0\n",
      "    51810        0    2 0.096 ... 2.97773632994 2.17086029788           1.0\n",
      "    83414        0    2 0.114 ...  11.074153724 8.46263826141           0.0\n",
      "   115074        0    2 0.128 ... 2.70286331323 2.05274773804           2.0\n",
      "   125027        0    2  0.13 ... 3.05597427076 2.26314157954           1.0\n",
      "   147709        0    2 0.138 ... 3.19511001897 2.23217832836           2.0\n",
      "   180815        0    2 0.148 ... 2.97327758323 2.07627832133           1.0\n",
      "   202550        0    4 0.154 ... 2.72532942362 2.06776540353           1.0\n",
      "      ...      ...  ...   ... ...           ...           ...           ...\n",
      "113167635        0    2 1.936 ... 2.63192961028  1.9130279963           2.0\n",
      "115614728        0    4  1.96 ... 2.85714432761 2.05763260952           2.0\n",
      "118666840        0    2  1.99 ... 2.90977262769 2.09076996368           2.0\n",
      "120546345        0    2 2.008 ...  3.0383549269 2.07092856643           2.0\n",
      "123598414        0    2 2.038 ... 2.87382188622 2.09179769123           1.0\n",
      "129002676        0    2  2.09 ... 2.75953804285 2.03015146749           2.0\n",
      "138366386        0    2  2.18 ... 2.86311088106 1.95622032682           2.0\n",
      "157075130        0    2 2.358 ... 2.99045629571 2.03086028928           1.0\n",
      "168229053        0    2 2.464 ... 2.76392203036 2.02576290161           2.0\n",
      "185790887        0    2  2.63 ... 2.75673766955 2.03425846511           2.0\n",
      "193208710        0    2   2.7 ... 2.85268845119 1.97445395008           2.0\n"
     ]
    }
   ],
   "source": [
    "print db.lenses"
   ]
  },
  {
   "cell_type": "code",
   "execution_count": 3,
   "metadata": {
    "collapsed": false
   },
   "outputs": [],
   "source": [
    "#pre-load painted, positioned catalog for this NB\n",
    "db = om10.DB(catalog=os.path.expandvars(\"$OM10_DIR/notebooks/painted_positioned_catalog.fits\"))"
   ]
  },
  {
   "cell_type": "markdown",
   "metadata": {},
   "source": [
    "#4. Output flat catalog"
   ]
  },
  {
   "cell_type": "code",
   "execution_count": 5,
   "metadata": {
    "collapsed": false
   },
   "outputs": [],
   "source": [
    "out_cat = db.make_sim_input_catalog()"
   ]
  },
  {
   "cell_type": "code",
   "execution_count": 28,
   "metadata": {
    "collapsed": false
   },
   "outputs": [],
   "source": [
    "positioned_cat = out_cat[out_cat['RA'] > 0] #let's only take galaxies that were matched to a location"
   ]
  },
  {
   "cell_type": "code",
   "execution_count": 27,
   "metadata": {
    "collapsed": false
   },
   "outputs": [],
   "source": [
    "positioned_cat.write('sim_input_sample_cat.fits',format='fits')"
   ]
  },
  {
   "cell_type": "markdown",
   "metadata": {},
   "source": [
    "##Exploring our positioned, painted catalog"
   ]
  },
  {
   "cell_type": "code",
   "execution_count": 23,
   "metadata": {
    "collapsed": false
   },
   "outputs": [
    {
     "data": {
      "image/png": "[encoded data removed]",
      "text/plain": [
       "<matplotlib.figure.Figure at 0x10a2e2d10>"
      ]
     },
     "metadata": {},
     "output_type": "display_data"
    },
    {
     "data": {
      "image/png": "[encoded data removed]",
      "text/plain": [
       "<matplotlib.figure.Figure at 0x10d3cc7d0>"
      ]
     },
     "metadata": {},
     "output_type": "display_data"
    },
    {
     "data": {
      "image/png": "[encoded data removed]",
      "text/plain": [
       "<matplotlib.figure.Figure at 0x10d7b8350>"
      ]
     },
     "metadata": {},
     "output_type": "display_data"
    },
    {
     "data": {
      "image/png": "[encoded data removed]",
      "text/plain": [
       "<matplotlib.figure.Figure at 0x10d4f1c10>"
      ]
     },
     "metadata": {},
     "output_type": "display_data"
    }
   ],
   "source": [
    "for var in ['G','R','I','Z']:\n",
    "    plt.figure()\n",
    "    plt.hist(positioned_cat[var][positioned_cat['XIMG'] == 0],bins=20,histtype='step',color='Orange',label='Lenses')\n",
    "    plt.hist(positioned_cat[var][positioned_cat['XIMG'] != 0],bins=20,histtype='step',color='Cyan',label='Sources')\n",
    "    plt.legend()\n",
    "    plt.xlabel(var)"
   ]
  },
  {
   "cell_type": "code",
   "execution_count": 25,
   "metadata": {
    "collapsed": false
   },
   "outputs": [
    {
     "data": {
      "text/plain": [
       "<matplotlib.text.Text at 0x10e09c050>"
      ]
     },
     "execution_count": 25,
     "metadata": {},
     "output_type": "execute_result"
    },
    {
     "data": {
      "image/png": "[encoded data removed]",
      "text/plain": [
       "<matplotlib.figure.Figure at 0x10d51b150>"
      ]
     },
     "metadata": {},
     "output_type": "display_data"
    }
   ],
   "source": [
    "plt.scatter(positioned_cat['RA'],positioned_cat['DEC'],color='Orange')\n",
    "plt.title('Assigned Locations of Simulated Lenses in CFHT footprint (?)')\n",
    "plt.xlabel('RA')\n",
    "plt.ylabel('DEC')"
   ]
  },
  {
   "cell_type": "code",
   "execution_count": null,
   "metadata": {
    "collapsed": true
   },
   "outputs": [],
   "source": []
  }
 ],
 "metadata": {
  "kernelspec": {
   "display_name": "Python 2",
   "language": "python",
   "name": "python2"
  },
  "language_info": {
   "codemirror_mode": {
    "name": "ipython",
    "version": 2
   },
   "file_extension": ".py",
   "mimetype": "text/x-python",
   "name": "python",
   "nbconvert_exporter": "python",
   "pygments_lexer": "ipython2",
   "version": "2.7.9"
  }
 },
 "nbformat": 4,
 "nbformat_minor": 0
}
