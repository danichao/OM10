{
 "cells": [
  {
   "cell_type": "code",
   "execution_count": 1,
   "metadata": {
    "collapsed": true
   },
   "outputs": [],
   "source": [
    "%matplotlib inline\n",
    "from __future__ import division\n",
    "import om10,os\n",
    "import numpy as np\n",
    "import matplotlib.pyplot as plt\n",
    "import triangle"
   ]
  },
  {
   "cell_type": "code",
   "execution_count": 2,
   "metadata": {
    "collapsed": false
   },
   "outputs": [
    {
     "data": {
      "text/html": [
       "<table id=\"table4445714896\"><thead><tr><th>LENSID</th><th>FLAGTYPE</th><th>NIMG</th><th>ZLENS</th><th>...</th><th>MAGW3_SRC</th><th>MAGW4_SRC</th><th>SDSS_FLAG_SRC</th></tr></thead><tr><td>14428</td><td>0</td><td>2</td><td>0.062</td><td>...</td><td>2.8329897868</td><td>2.05328516341</td><td>2.0</td></tr><tr><td>21703</td><td>0</td><td>2</td><td>0.072</td><td>...</td><td>2.76149741291</td><td>2.06557386144</td><td>2.0</td></tr><tr><td>31711</td><td>0</td><td>2</td><td>0.082</td><td>...</td><td>2.72177852159</td><td>1.97124268902</td><td>1.0</td></tr><tr><td>34331</td><td>0</td><td>2</td><td>0.084</td><td>...</td><td>3.00424885671</td><td>2.15719928739</td><td>1.0</td></tr><tr><td>51810</td><td>0</td><td>2</td><td>0.096</td><td>...</td><td>2.97773632994</td><td>2.17086029788</td><td>1.0</td></tr><tr><td>83414</td><td>0</td><td>2</td><td>0.114</td><td>...</td><td>11.074153724</td><td>8.46263826141</td><td>0.0</td></tr><tr><td>115074</td><td>0</td><td>2</td><td>0.128</td><td>...</td><td>2.70286331323</td><td>2.05274773804</td><td>2.0</td></tr><tr><td>125027</td><td>0</td><td>2</td><td>0.13</td><td>...</td><td>3.05597427076</td><td>2.26314157954</td><td>1.0</td></tr><tr><td>147709</td><td>0</td><td>2</td><td>0.138</td><td>...</td><td>3.19511001897</td><td>2.23217832836</td><td>2.0</td></tr><tr><td>180815</td><td>0</td><td>2</td><td>0.148</td><td>...</td><td>2.97327758323</td><td>2.07627832133</td><td>1.0</td></tr><tr><td>202550</td><td>0</td><td>4</td><td>0.154</td><td>...</td><td>2.72532942362</td><td>2.06776540353</td><td>1.0</td></tr><tr><td>...</td><td>...</td><td>...</td><td>...</td><td>...</td><td>...</td><td>...</td><td>...</td></tr><tr><td>113167635</td><td>0</td><td>2</td><td>1.936</td><td>...</td><td>2.63192961028</td><td>1.9130279963</td><td>2.0</td></tr><tr><td>115614728</td><td>0</td><td>4</td><td>1.96</td><td>...</td><td>2.85714432761</td><td>2.05763260952</td><td>2.0</td></tr><tr><td>118666840</td><td>0</td><td>2</td><td>1.99</td><td>...</td><td>2.90977262769</td><td>2.09076996368</td><td>2.0</td></tr><tr><td>120546345</td><td>0</td><td>2</td><td>2.008</td><td>...</td><td>3.0383549269</td><td>2.07092856643</td><td>2.0</td></tr><tr><td>123598414</td><td>0</td><td>2</td><td>2.038</td><td>...</td><td>2.87382188622</td><td>2.09179769123</td><td>1.0</td></tr><tr><td>129002676</td><td>0</td><td>2</td><td>2.09</td><td>...</td><td>2.75953804285</td><td>2.03015146749</td><td>2.0</td></tr><tr><td>138366386</td><td>0</td><td>2</td><td>2.18</td><td>...</td><td>2.86311088106</td><td>1.95622032682</td><td>2.0</td></tr><tr><td>157075130</td><td>0</td><td>2</td><td>2.358</td><td>...</td><td>2.99045629571</td><td>2.03086028928</td><td>1.0</td></tr><tr><td>168229053</td><td>0</td><td>2</td><td>2.464</td><td>...</td><td>2.76392203036</td><td>2.02576290161</td><td>2.0</td></tr><tr><td>185790887</td><td>0</td><td>2</td><td>2.63</td><td>...</td><td>2.75673766955</td><td>2.03425846511</td><td>2.0</td></tr><tr><td>193208710</td><td>0</td><td>2</td><td>2.7</td><td>...</td><td>2.85268845119</td><td>1.97445395008</td><td>2.0</td></tr></table>"
      ],
      "text/plain": [
       "<Table rows=15658 names=('LENSID','FLAGTYPE','NIMG','ZLENS','VELDISP','ELLIP','PHIE','GAMMA','PHIG','ZSRC','XSRC','YSRC','MAGI_IN','MAGI','IMSEP','XIMG','YIMG','MAG','DELAY','KAPPA','FSTAR','DD','DDLUM','ABMAG_I','APMAG_I','KCORR','DS','DDS','SIGCRIT','DSLUM','L_I','REFF','REFF_T','RA','DEC','MAGG_LENS','MAGR_LENS','MAGI_LENS','MAGZ_LENS','MAGW1_LENS','MAGW2_LENS','MAGW3_LENS','MAGW4_LENS','SDSS_FLAG_LENS','MAGG_SRC','MAGR_SRC','MAGI_SRC','MAGZ_SRC','MAGW1_SRC','MAGW2_SRC','MAGW3_SRC','MAGW4_SRC','SDSS_FLAG_SRC')>\n",
       "array([ (14428, 0, 2, 0.062, 264.2409, 0.2182095, 86.19403, 0.04307117, -172.995, 4.01, -0.8669144, 0.2832836, 22.81, 22.94768, 3.858949, [0.9541, -2.7414, 0.0, 0.0], [-0.2678, 0.8434, 0.0, 0.0], [-0.8809, 3.8125, 0.0, 0.0], [26.034, 0.0, 0.0, 0.0], [0.0, 0.0, 0.0, 0.0], [0.0, 0.0, 0.0, 0.0], 246.488327, 278.000397, -22.8653774, 14.4168491, 0.061999999, 1432.53, 1380.28, 0.0, 35956.6, 0.0, 0.0, 0.0, -99.0, -99.0, 19.29214, 15.53801, 14.9937, 14.61676, 12.773, 12.8, 11.542, 7.436, 0.0, 5.077679433611379, 4.8727910071392175, 4.78703223254984, 4.71891148224586, 3.8190802493757277, 3.5602354984563473, 2.8329897867956624, 2.053285163409295, 2.0),\n",
       "       (21703, 0, 2, 0.072, 165.1962, 0.286398, 131.0021, 0.06827481, -174.4367, 1.19, -0.4895263, 0.23893, 22.55, 23.27365, 1.553578, [-1.2262, 0.1993, 0.0, 0.0], [0.5434, -0.0743, 0.0, 0.0], [1.8811, -0.5135, 0.0, 0.0], [0.0, 7.601, 0.0, 0.0], [0.0, 0.0, 0.0, 0.0], [0.0, 0.0, 0.0, 0.0], 282.910126, 325.115814, -21.6407204, 15.9914694, 0.0719999969, 1708.45, 1569.97, 0.0, 8193.9, 0.0, 0.0, 0.0, -99.0, -99.0, 24.5192611779775, 16.3576568728334, 15.501283454708952, 19.435148375828767, 13.204214358088468, 13.078254022259673, 12.050796671641447, 8.341507435568982, 0.0, 4.921614880561279, 4.805815574328784, 4.764465502421647, 4.666690243925784, 3.821650073280824, 3.4575543765865997, 2.7614974129114915, 2.0655738614367745, 2.0),\n",
       "       (31711, 0, 2, 0.082, 155.9553, 0.2997531, -19.01642, 0.05930104, -120.289, 4.01, 0.1881534, 0.1275117, 22.51, 21.93714, 1.339839, [-0.3014, 0.817, 0.0, 0.0], [-0.3255, 0.4123, 0.0, 0.0], [-1.6949, 3.3592, 0.0, 0.0], [3.11, 0.0, 0.0, 0.0], [0.0, 0.0, 0.0, 0.0], [0.0, 0.0, 0.0, 0.0], 318.475311, 372.84671, -21.497221, 16.4424324, 0.0820000023, 1432.53, 1363.75, 0.0, 35956.6, 0.0, 0.0, 0.0, -99.0, -99.0, 22.750972153749824, 18.834017194571814, 18.406768210191316, 16.33001802869544, 13.02589304069739, 13.64331550942665, 11.707973432232878, 9.284778755085043, 0.0, 5.050788906390113, 4.84574661717762, 4.792743477458564, 4.7243006292828955, 3.8481446173097864, 3.5286364860406634, 2.72177852159186, 1.9712426890208337, 1.0),\n",
       "       ...,\n",
       "       (168229053, 0, 2, 2.464, 200.9093, 0.2775988, -25.94449, 0.07066369, -110.816, 5.21, 0.09019906, 0.1736646, 20.99, 21.82394, 0.6418513, [0.2286, -0.0509, 0.0, 0.0], [0.4796, -0.0982, 0.0, 0.0], [2.9458, -0.4639, 0.0, 0.0], [0.0, 75.636, 0.0, 0.0], [0.0, 0.0, 0.0, 0.0], [0.0, 0.0, 0.0, 0.0], 1670.05164, 20039.4453, -23.9481201, 25.0253086, 2.46399999, 1269.42, 337.846, 0.0, 48954.0, 0.0, 0.0, 0.0, -99.0, -99.0, 13.924812920445188, 12.71571030962467, 12.182489003864745, 11.992898935370093, 9.388246467219608, 9.215283922189203, 7.949825662605161, 5.705736849734415, 2.0, 4.934817042964745, 4.778862372502623, 4.706403854625529, 4.621827744032379, 3.735853700098316, 3.433970920601426, 2.7639220303616185, 2.0257629016107654, 2.0),\n",
       "       (185790887, 0, 2, 2.63, 215.7744, 0.2997711, -152.7023, 0.05911739, -141.7852, 4.59, 0.1574054, 0.07493876, 23.57, 23.19734, 0.6376662, [-0.1242, 0.4434, 0.0, 0.0], [-0.0511, 0.2395, 0.0, 0.0], [-1.4095, 1.8335, 0.0, 0.0], [88.48, 0.0, 0.0, 0.0], [0.0, 0.0, 0.0, 0.0], [0.0, 0.0, 0.0, 0.0], 1645.88708, 21687.6914, -24.2598572, 25.0512085, 2.63000011, 1350.0, 281.206, 0.0, 42184.9, 0.0, 0.0, 0.0, -99.0, -99.0, 12.349727532682806, 11.312676525022642, 11.129687717786345, 10.617718762616851, 8.615949542551034, 8.39854057340507, 7.00542721126486, 4.967892798223529, 2.0, 4.976028540955589, 4.8023801871218, 4.735297040916425, 4.688260317096958, 3.6313114583744457, 3.5742371633864347, 2.7567376695468098, 2.0342584651133246, 2.0),\n",
       "       (193208710, 0, 2, 2.7, 259.4179, 0.2919181, 113.1775, 0.04371348, -57.21917, 4.13, -0.0526813, 0.1313752, 23.81, 22.99862, 0.7246402, [0.0617, -0.2087, 0.0, 0.0], [-0.2058, 0.4665, 0.0, 0.0], [-3.8524, 2.1113, 0.0, 0.0], [103.621, 0.0, 0.0, 0.0], [0.0, 0.0, 0.0, 0.0], [0.0, 0.0, 0.0, 0.0], 1635.37683, 22388.3105, -24.7955589, 24.6545486, 2.70000005, 1414.9, 235.39, 0.0, 37235.8, 0.0, 0.0, 0.0, -99.0, -99.0, 12.5226217851336, 11.568725472612009, 11.102924205518944, 10.633465899682678, 8.302474606135348, 8.474593752242308, 6.9369775046514786, 4.740494204351757, 2.0, 5.0195463807869265, 4.86748930508431, 4.782948334921305, 4.7295793611660955, 3.8240681689831373, 3.5477796692601347, 2.8526884511937136, 1.9744539500804958, 2.0)], \n",
       "      dtype=[('LENSID', '>i4'), ('FLAGTYPE', '>i2'), ('NIMG', '>i2'), ('ZLENS', '>f8'), ('VELDISP', '>f8'), ('ELLIP', '>f8'), ('PHIE', '>f8'), ('GAMMA', '>f8'), ('PHIG', '>f8'), ('ZSRC', '>f8'), ('XSRC', '>f8'), ('YSRC', '>f8'), ('MAGI_IN', '>f8'), ('MAGI', '>f8'), ('IMSEP', '>f8'), ('XIMG', '>f8', (4,)), ('YIMG', '>f8', (4,)), ('MAG', '>f8', (4,)), ('DELAY', '>f8', (4,)), ('KAPPA', '>f8', (4,)), ('FSTAR', '>f8', (4,)), ('DD', '>f8'), ('DDLUM', '>f8'), ('ABMAG_I', '>f8'), ('APMAG_I', '>f8'), ('KCORR', '>f8'), ('DS', '>f8'), ('DDS', '>f8'), ('SIGCRIT', '>f8'), ('DSLUM', '>f8'), ('L_I', '>f8'), ('REFF', '>f8'), ('REFF_T', '>f8'), ('RA', '>f8'), ('DEC', '>f8'), ('MAGG_LENS', '>f8'), ('MAGR_LENS', '>f8'), ('MAGI_LENS', '>f8'), ('MAGZ_LENS', '>f8'), ('MAGW1_LENS', '>f8'), ('MAGW2_LENS', '>f8'), ('MAGW3_LENS', '>f8'), ('MAGW4_LENS', '>f8'), ('SDSS_FLAG_LENS', '>f8'), ('MAGG_SRC', '>f8'), ('MAGR_SRC', '>f8'), ('MAGI_SRC', '>f8'), ('MAGZ_SRC', '>f8'), ('MAGW1_SRC', '>f8'), ('MAGW2_SRC', '>f8'), ('MAGW3_SRC', '>f8'), ('MAGW4_SRC', '>f8'), ('SDSS_FLAG_SRC', '>f8')])"
      ]
     },
     "execution_count": 2,
     "metadata": {},
     "output_type": "execute_result"
    }
   ],
   "source": [
    "db = om10.DB(catalog='$OM10_DIR/notebooks/painted_positioned_catalog.fits')\n",
    "db.lenses"
   ]
  },
  {
   "cell_type": "code",
   "execution_count": 46,
   "metadata": {
    "collapsed": false
   },
   "outputs": [
    {
     "data": {
      "text/html": [
       "<table id=\"table4450862544\"><thead><tr><th>LENSID</th><th>FLAGTYPE</th><th>NIMG</th><th>ZLENS</th><th>...</th><th>MAGW3_SRC</th><th>MAGW4_SRC</th><th>SDSS_FLAG_SRC</th></tr></thead><tr><td>72106919</td><td>0</td><td>4</td><td>1.516</td><td>...</td><td>3.05167282993</td><td>2.17764634767</td><td>2.0</td></tr></table>"
      ],
      "text/plain": [
       "<Table rows=1 names=('LENSID','FLAGTYPE','NIMG','ZLENS','VELDISP','ELLIP','PHIE','GAMMA','PHIG','ZSRC','XSRC','YSRC','MAGI_IN','MAGI','IMSEP','XIMG','YIMG','MAG','DELAY','KAPPA','FSTAR','DD','DDLUM','ABMAG_I','APMAG_I','KCORR','DS','DDS','SIGCRIT','DSLUM','L_I','REFF','REFF_T','RA','DEC','MAGG_LENS','MAGR_LENS','MAGI_LENS','MAGZ_LENS','MAGW1_LENS','MAGW2_LENS','MAGW3_LENS','MAGW4_LENS','SDSS_FLAG_LENS','MAGG_SRC','MAGR_SRC','MAGI_SRC','MAGZ_SRC','MAGW1_SRC','MAGW2_SRC','MAGW3_SRC','MAGW4_SRC','SDSS_FLAG_SRC')>\n",
       "array([ (72106919, 0, 4, 1.516, 359.7493, 0.2033489, -78.43589, 0.05122893, 84.9205, 2.0, 0.02204538, -0.07056071, 24.15, 22.61471, 1.2528, [0.1023, -0.4667, 0.4043, 0.1016], [-0.7015, 0.1941, 0.3619, 0.5513], [3.385, -4.1126, -8.0133, 10.9975], [0.0, 84.613, 73.835, 71.839], [0.0, 0.0, 0.0, 0.0], [0.0, 0.0, 0.0, 0.0], 1746.07983, 11053.1318, -24.7652397, 21.9681873, 1.51600003, 1726.56, 262.177, 0.0, 15539.0, 0.0, 0.0, 0.0, 34.16543376, -6.034706182, 11.852001294351592, 10.866520034574258, 10.370611858475865, 10.067659645330027, 8.005331474026791, 7.907875050902185, 6.573262321810466, 4.578422820759616, 2.0, 5.402216381095809, 5.31661705293884, 5.268437836955566, 5.201288846898478, 4.2451972518610175, 3.9262890856874524, 3.0516728299340516, 2.177646347672948, 2.0)], \n",
       "      dtype=[('LENSID', '>i4'), ('FLAGTYPE', '>i2'), ('NIMG', '>i2'), ('ZLENS', '>f8'), ('VELDISP', '>f8'), ('ELLIP', '>f8'), ('PHIE', '>f8'), ('GAMMA', '>f8'), ('PHIG', '>f8'), ('ZSRC', '>f8'), ('XSRC', '>f8'), ('YSRC', '>f8'), ('MAGI_IN', '>f8'), ('MAGI', '>f8'), ('IMSEP', '>f8'), ('XIMG', '>f8', (4,)), ('YIMG', '>f8', (4,)), ('MAG', '>f8', (4,)), ('DELAY', '>f8', (4,)), ('KAPPA', '>f8', (4,)), ('FSTAR', '>f8', (4,)), ('DD', '>f8'), ('DDLUM', '>f8'), ('ABMAG_I', '>f8'), ('APMAG_I', '>f8'), ('KCORR', '>f8'), ('DS', '>f8'), ('DDS', '>f8'), ('SIGCRIT', '>f8'), ('DSLUM', '>f8'), ('L_I', '>f8'), ('REFF', '>f8'), ('REFF_T', '>f8'), ('RA', '>f8'), ('DEC', '>f8'), ('MAGG_LENS', '>f8'), ('MAGR_LENS', '>f8'), ('MAGI_LENS', '>f8'), ('MAGZ_LENS', '>f8'), ('MAGW1_LENS', '>f8'), ('MAGW2_LENS', '>f8'), ('MAGW3_LENS', '>f8'), ('MAGW4_LENS', '>f8'), ('SDSS_FLAG_LENS', '>f8'), ('MAGG_SRC', '>f8'), ('MAGR_SRC', '>f8'), ('MAGI_SRC', '>f8'), ('MAGZ_SRC', '>f8'), ('MAGW1_SRC', '>f8'), ('MAGW2_SRC', '>f8'), ('MAGW3_SRC', '>f8'), ('MAGW4_SRC', '>f8'), ('SDSS_FLAG_SRC', '>f8')])"
      ]
     },
     "execution_count": 46,
     "metadata": {},
     "output_type": "execute_result"
    }
   ],
   "source": [
    "test_lens = db.get_lens(72106919)\n",
    "test_lens"
   ]
  },
  {
   "cell_type": "code",
   "execution_count": 47,
   "metadata": {
    "collapsed": false
   },
   "outputs": [
    {
     "name": "stdout",
     "output_type": "stream",
     "text": [
      "om10.plot_lens: plotting image configuration of lens ID  72106919\n",
      "om10.plot_lens: lens, image magnitudes: 21.9681873 [ 22.82610332  22.61470882  21.89047149  21.54676507]\n"
     ]
    },
    {
     "data": {
      "image/png": "[encoded data removed]",
      "text/plain": [
       "<matplotlib.figure.Figure at 0x105da3a50>"
      ]
     },
     "metadata": {},
     "output_type": "display_data"
    }
   ],
   "source": [
    "om10.plot_lens(test_lens)"
   ]
  },
  {
   "cell_type": "code",
   "execution_count": 10,
   "metadata": {
    "collapsed": false
   },
   "outputs": [
    {
     "data": {
      "text/plain": [
       "(<Column name='XIMG' unit=None format=None description=None>\n",
       " array([[-0.2291,  0.5897, -1.1676,  0.3106]]),\n",
       " <Column name='YIMG' unit=None format=None description=None>\n",
       " array([[-0.7459, -0.6133,  0.3543,  0.4498]]))"
      ]
     },
     "execution_count": 10,
     "metadata": {},
     "output_type": "execute_result"
    }
   ],
   "source": [
    "test_lens['XIMG'], test_lens['YIMG']"
   ]
  },
  {
   "cell_type": "code",
   "execution_count": 12,
   "metadata": {
    "collapsed": false
   },
   "outputs": [],
   "source": [
    "input_cat = om10.DB(catalog='./sim_input_sample_cat.fits')"
   ]
  },
  {
   "cell_type": "code",
   "execution_count": 48,
   "metadata": {
    "collapsed": false
   },
   "outputs": [
    {
     "data": {
      "text/html": [
       "<table id=\"table4400897936\"><thead><tr><th>LENSID</th><th>RA</th><th>DEC</th><th>...</th><th>I</th><th>Z</th></tr></thead><tr><td>72106919.0</td><td>34.16543376</td><td>-6.034706182</td><td>...</td><td>10.3706118585</td><td>10.0676596453</td></tr><tr><td>72106919.0</td><td>34.1654053433</td><td>-6.03490104311</td><td>...</td><td>3.9445411544</td><td>3.87739216435</td></tr><tr><td>72106919.0</td><td>34.1655633989</td><td>-6.03465226533</td><td>...</td><td>3.733146659</td><td>3.66599766894</td></tr><tr><td>72106919.0</td><td>34.1653214544</td><td>-6.03460565422</td><td>...</td><td>3.00890933181</td><td>2.94176034175</td></tr><tr><td>72106919.0</td><td>34.1654055378</td><td>-6.03455304311</td><td>...</td><td>2.66520291033</td><td>2.59805392028</td></tr></table>"
      ],
      "text/plain": [
       "<Table rows=5 names=('LENSID','RA','DEC','XIMG','YIMG','G','R','I','Z')>\n",
       "array([ (72106919.0, 34.16543376, -6.034706182, 0.0, 0.0, 11.852001294351592, 10.866520034574258, 10.370611858475865, 10.067659645330027),\n",
       "       (72106919.0, 34.16540534333333, -6.034901043111111, 0.1023, -0.7015, 4.078319698542901, 3.992720370385932, 3.944541154402658, 3.8773921643455704),\n",
       "       (72106919.0, 34.165563398888885, -6.034652265333333, -0.4667, 0.1941, 3.866925203141352, 3.7813258749843826, 3.7331466590011084, 3.665997668944021),\n",
       "       (72106919.0, 34.165321454444445, -6.034605654222222, 0.4043, 0.3619, 3.142687875951168, 3.0570885477941987, 3.0089093318109246, 2.941760341753837),\n",
       "       (72106919.0, 34.16540553777778, -6.034553043111111, 0.1016, 0.5513, 2.798981454473558, 2.7133821263165885, 2.6652029103333144, 2.598053920276227)], \n",
       "      dtype=[('LENSID', '>f8'), ('RA', '>f8'), ('DEC', '>f8'), ('XIMG', '>f8'), ('YIMG', '>f8'), ('G', '>f8'), ('R', '>f8'), ('I', '>f8'), ('Z', '>f8')])"
      ]
     },
     "execution_count": 48,
     "metadata": {},
     "output_type": "execute_result"
    }
   ],
   "source": [
    "test_sim = input_cat.get_lens(72106919)\n",
    "test_sim"
   ]
  },
  {
   "cell_type": "code",
   "execution_count": 53,
   "metadata": {
    "collapsed": false
   },
   "outputs": [
    {
     "data": {
      "text/plain": [
       "[<matplotlib.lines.Line2D at 0x10acfd7d0>]"
      ]
     },
     "execution_count": 53,
     "metadata": {},
     "output_type": "execute_result"
    },
    {
     "data": {
      "image/png": "[encoded data removed]",
      "text/plain": [
       "<matplotlib.figure.Figure at 0x1097b82d0>"
      ]
     },
     "metadata": {},
     "output_type": "display_data"
    }
   ],
   "source": [
    "plt.plot(3600*test_sim['RA'][0],3600*test_sim['DEC'][0],color='Orange',marker='+')\n",
    "plt.plot(3600*test_sim['RA'][1:],3600*test_sim['DEC'][1:],color='Blue',marker='+',linestyle='None')"
   ]
  },
  {
   "cell_type": "markdown",
   "metadata": {},
   "source": [
    "input catalog is mirrored in RA from what it should be..."
   ]
  },
  {
   "cell_type": "code",
   "execution_count": null,
   "metadata": {
    "collapsed": true
   },
   "outputs": [],
   "source": []
  }
 ],
 "metadata": {
  "kernelspec": {
   "display_name": "Python 2",
   "language": "python",
   "name": "python2"
  },
  "language_info": {
   "codemirror_mode": {
    "name": "ipython",
    "version": 2
   },
   "file_extension": ".py",
   "mimetype": "text/x-python",
   "name": "python",
   "nbconvert_exporter": "python",
   "pygments_lexer": "ipython2",
   "version": "2.7.9"
  }
 },
 "nbformat": 4,
 "nbformat_minor": 0
}
