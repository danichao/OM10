{
 "cells": [
  {
   "cell_type": "code",
   "execution_count": 1,
   "metadata": {
    "collapsed": true
   },
   "outputs": [],
   "source": [
    "%matplotlib inline\n",
    "from __future__ import division\n",
    "import om10,os\n",
    "import numpy as np\n",
    "import matplotlib.pyplot as plt\n",
    "import triangle"
   ]
  },
  {
   "cell_type": "code",
   "execution_count": 5,
   "metadata": {
    "collapsed": false
   },
   "outputs": [
    {
     "data": {
      "text/html": [
       "<table id=\"table4445789200\"><thead><tr><th>LENSID</th><th>FLAGTYPE</th><th>NIMG</th><th>ZLENS</th><th>VELDISP</th><th>...</th><th>SIGCRIT</th><th>DSLUM</th><th>L_I</th><th>REFF</th><th>REFF_T</th></tr></thead><tr><td>14428</td><td>0</td><td>2</td><td>0.062</td><td>264.2409</td><td>...</td><td>0.0</td><td>35956.6</td><td>0.0</td><td>0.0</td><td>0.0</td></tr><tr><td>21703</td><td>0</td><td>2</td><td>0.072</td><td>165.1962</td><td>...</td><td>0.0</td><td>8193.9</td><td>0.0</td><td>0.0</td><td>0.0</td></tr><tr><td>31711</td><td>0</td><td>2</td><td>0.082</td><td>155.9553</td><td>...</td><td>0.0</td><td>35956.6</td><td>0.0</td><td>0.0</td><td>0.0</td></tr><tr><td>34331</td><td>0</td><td>2</td><td>0.084</td><td>172.5838</td><td>...</td><td>0.0</td><td>14498.4</td><td>0.0</td><td>0.0</td><td>0.0</td></tr><tr><td>51810</td><td>0</td><td>2</td><td>0.096</td><td>244.9063</td><td>...</td><td>0.0</td><td>26239.2</td><td>0.0</td><td>0.0</td><td>0.0</td></tr><tr><td>83414</td><td>0</td><td>2</td><td>0.114</td><td>154.17</td><td>...</td><td>0.0</td><td>11904.1</td><td>0.0</td><td>0.0</td><td>0.0</td></tr><tr><td>115074</td><td>0</td><td>2</td><td>0.128</td><td>113.5011</td><td>...</td><td>0.0</td><td>7101.16</td><td>0.0</td><td>0.0</td><td>0.0</td></tr><tr><td>125027</td><td>0</td><td>2</td><td>0.13</td><td>247.1724</td><td>...</td><td>0.0</td><td>16302.5</td><td>0.0</td><td>0.0</td><td>0.0</td></tr><tr><td>147709</td><td>0</td><td>2</td><td>0.138</td><td>200.9093</td><td>...</td><td>0.0</td><td>17748.4</td><td>0.0</td><td>0.0</td><td>0.0</td></tr><tr><td>180815</td><td>0</td><td>2</td><td>0.148</td><td>185.3532</td><td>...</td><td>0.0</td><td>14029.4</td><td>0.0</td><td>0.0</td><td>0.0</td></tr><tr><td>202550</td><td>0</td><td>4</td><td>0.154</td><td>181.134</td><td>...</td><td>0.0</td><td>8794.67</td><td>0.0</td><td>0.0</td><td>0.0</td></tr><tr><td>...</td><td>...</td><td>...</td><td>...</td><td>...</td><td>...</td><td>...</td><td>...</td><td>...</td><td>...</td><td>...</td></tr><tr><td>113167635</td><td>0</td><td>2</td><td>1.936</td><td>250.6109</td><td>...</td><td>0.0</td><td>47637.1</td><td>0.0</td><td>0.0</td><td>0.0</td></tr><tr><td>115614728</td><td>0</td><td>4</td><td>1.96</td><td>242.1029</td><td>...</td><td>0.0</td><td>38304.5</td><td>0.0</td><td>0.0</td><td>0.0</td></tr><tr><td>118666840</td><td>0</td><td>2</td><td>1.99</td><td>207.9697</td><td>...</td><td>0.0</td><td>27265.9</td><td>0.0</td><td>0.0</td><td>0.0</td></tr><tr><td>120546345</td><td>0</td><td>2</td><td>2.008</td><td>281.8383</td><td>...</td><td>0.0</td><td>28090.1</td><td>0.0</td><td>0.0</td><td>0.0</td></tr><tr><td>123598414</td><td>0</td><td>2</td><td>2.038</td><td>199.5262</td><td>...</td><td>0.0</td><td>31000.1</td><td>0.0</td><td>0.0</td><td>0.0</td></tr><tr><td>129002676</td><td>0</td><td>2</td><td>2.09</td><td>236.0478</td><td>...</td><td>0.0</td><td>39270.7</td><td>0.0</td><td>0.0</td><td>0.0</td></tr><tr><td>138366386</td><td>0</td><td>2</td><td>2.18</td><td>227.5097</td><td>...</td><td>0.0</td><td>36169.7</td><td>0.0</td><td>0.0</td><td>0.0</td></tr><tr><td>157075130</td><td>0</td><td>2</td><td>2.358</td><td>258.8213</td><td>...</td><td>0.0</td><td>29955.8</td><td>0.0</td><td>0.0</td><td>0.0</td></tr><tr><td>168229053</td><td>0</td><td>2</td><td>2.464</td><td>200.9093</td><td>...</td><td>0.0</td><td>48954.0</td><td>0.0</td><td>0.0</td><td>0.0</td></tr><tr><td>185790887</td><td>0</td><td>2</td><td>2.63</td><td>215.7744</td><td>...</td><td>0.0</td><td>42184.9</td><td>0.0</td><td>0.0</td><td>0.0</td></tr><tr><td>193208710</td><td>0</td><td>2</td><td>2.7</td><td>259.4179</td><td>...</td><td>0.0</td><td>37235.8</td><td>0.0</td><td>0.0</td><td>0.0</td></tr></table>"
      ],
      "text/plain": [
       "<Table rows=15658 names=('LENSID','FLAGTYPE','NIMG','ZLENS','VELDISP','ELLIP','PHIE','GAMMA','PHIG','ZSRC','XSRC','YSRC','MAGI_IN','MAGI','IMSEP','XIMG','YIMG','MAG','DELAY','KAPPA','FSTAR','DD','DDLUM','ABMAG_I','APMAG_I','KCORR','DS','DDS','SIGCRIT','DSLUM','L_I','REFF','REFF_T')>\n",
       "array([ (14428, 0, 2, 0.062, 264.2409, 0.2182095, 86.19403, 0.04307117, -172.995, 4.01, -0.8669144, 0.2832836, 22.81, 22.94768, 3.858949, [0.9541, -2.7414, 0.0, 0.0], [-0.2678, 0.8434, 0.0, 0.0], [-0.8809, 3.8125, 0.0, 0.0], [26.034, 0.0, 0.0, 0.0], [0.0, 0.0, 0.0, 0.0], [0.0, 0.0, 0.0, 0.0], 246.488327, 278.000397, -22.8653774, 14.4168491, 0.061999999, 1432.53, 1380.28, 0.0, 35956.6, 0.0, 0.0, 0.0),\n",
       "       (21703, 0, 2, 0.072, 165.1962, 0.286398, 131.0021, 0.06827481, -174.4367, 1.19, -0.4895263, 0.23893, 22.55, 23.27365, 1.553578, [-1.2262, 0.1993, 0.0, 0.0], [0.5434, -0.0743, 0.0, 0.0], [1.8811, -0.5135, 0.0, 0.0], [0.0, 7.601, 0.0, 0.0], [0.0, 0.0, 0.0, 0.0], [0.0, 0.0, 0.0, 0.0], 282.910126, 325.115814, -21.6407204, 15.9914694, 0.0719999969, 1708.45, 1569.97, 0.0, 8193.9, 0.0, 0.0, 0.0),\n",
       "       (31711, 0, 2, 0.082, 155.9553, 0.2997531, -19.01642, 0.05930104, -120.289, 4.01, 0.1881534, 0.1275117, 22.51, 21.93714, 1.339839, [-0.3014, 0.817, 0.0, 0.0], [-0.3255, 0.4123, 0.0, 0.0], [-1.6949, 3.3592, 0.0, 0.0], [3.11, 0.0, 0.0, 0.0], [0.0, 0.0, 0.0, 0.0], [0.0, 0.0, 0.0, 0.0], 318.475311, 372.84671, -21.497221, 16.4424324, 0.0820000023, 1432.53, 1363.75, 0.0, 35956.6, 0.0, 0.0, 0.0),\n",
       "       ...,\n",
       "       (168229053, 0, 2, 2.464, 200.9093, 0.2775988, -25.94449, 0.07066369, -110.816, 5.21, 0.09019906, 0.1736646, 20.99, 21.82394, 0.6418513, [0.2286, -0.0509, 0.0, 0.0], [0.4796, -0.0982, 0.0, 0.0], [2.9458, -0.4639, 0.0, 0.0], [0.0, 75.636, 0.0, 0.0], [0.0, 0.0, 0.0, 0.0], [0.0, 0.0, 0.0, 0.0], 1670.05164, 20039.4453, -23.9481201, 25.0253086, 2.46399999, 1269.42, 337.846, 0.0, 48954.0, 0.0, 0.0, 0.0),\n",
       "       (185790887, 0, 2, 2.63, 215.7744, 0.2997711, -152.7023, 0.05911739, -141.7852, 4.59, 0.1574054, 0.07493876, 23.57, 23.19734, 0.6376662, [-0.1242, 0.4434, 0.0, 0.0], [-0.0511, 0.2395, 0.0, 0.0], [-1.4095, 1.8335, 0.0, 0.0], [88.48, 0.0, 0.0, 0.0], [0.0, 0.0, 0.0, 0.0], [0.0, 0.0, 0.0, 0.0], 1645.88708, 21687.6914, -24.2598572, 25.0512085, 2.63000011, 1350.0, 281.206, 0.0, 42184.9, 0.0, 0.0, 0.0),\n",
       "       (193208710, 0, 2, 2.7, 259.4179, 0.2919181, 113.1775, 0.04371348, -57.21917, 4.13, -0.0526813, 0.1313752, 23.81, 22.99862, 0.7246402, [0.0617, -0.2087, 0.0, 0.0], [-0.2058, 0.4665, 0.0, 0.0], [-3.8524, 2.1113, 0.0, 0.0], [103.621, 0.0, 0.0, 0.0], [0.0, 0.0, 0.0, 0.0], [0.0, 0.0, 0.0, 0.0], 1635.37683, 22388.3105, -24.7955589, 24.6545486, 2.70000005, 1414.9, 235.39, 0.0, 37235.8, 0.0, 0.0, 0.0)], \n",
       "      dtype=[('LENSID', '>i4'), ('FLAGTYPE', '>i2'), ('NIMG', '>i2'), ('ZLENS', '>f8'), ('VELDISP', '>f8'), ('ELLIP', '>f8'), ('PHIE', '>f8'), ('GAMMA', '>f8'), ('PHIG', '>f8'), ('ZSRC', '>f8'), ('XSRC', '>f8'), ('YSRC', '>f8'), ('MAGI_IN', '>f8'), ('MAGI', '>f8'), ('IMSEP', '>f8'), ('XIMG', '>f8', (4,)), ('YIMG', '>f8', (4,)), ('MAG', '>f8', (4,)), ('DELAY', '>f8', (4,)), ('KAPPA', '>f8', (4,)), ('FSTAR', '>f8', (4,)), ('DD', '>f8'), ('DDLUM', '>f8'), ('ABMAG_I', '>f8'), ('APMAG_I', '>f8'), ('KCORR', '>f8'), ('DS', '>f8'), ('DDS', '>f8'), ('SIGCRIT', '>f8'), ('DSLUM', '>f8'), ('L_I', '>f8'), ('REFF', '>f8'), ('REFF_T', '>f8')])"
      ]
     },
     "execution_count": 5,
     "metadata": {},
     "output_type": "execute_result"
    }
   ],
   "source": [
    "db = om10.DB(catalog='$OM10_DIR/data/qso_mock.fits')\n",
    "db.lenses"
   ]
  },
  {
   "cell_type": "code",
   "execution_count": 6,
   "metadata": {
    "collapsed": false
   },
   "outputs": [
    {
     "data": {
      "text/html": [
       "<table id=\"table4445619728\"><thead><tr><th>LENSID</th><th>FLAGTYPE</th><th>NIMG</th><th>ZLENS</th><th>VELDISP</th><th>...</th><th>SIGCRIT</th><th>DSLUM</th><th>L_I</th><th>REFF</th><th>REFF_T</th></tr></thead><tr><td>5924799</td><td>0</td><td>4</td><td>0.516</td><td>235.5049</td><td>...</td><td>0.0</td><td>12636.8</td><td>0.0</td><td>0.0</td><td>0.0</td></tr></table>"
      ],
      "text/plain": [
       "<Table rows=1 names=('LENSID','FLAGTYPE','NIMG','ZLENS','VELDISP','ELLIP','PHIE','GAMMA','PHIG','ZSRC','XSRC','YSRC','MAGI_IN','MAGI','IMSEP','XIMG','YIMG','MAG','DELAY','KAPPA','FSTAR','DD','DDLUM','ABMAG_I','APMAG_I','KCORR','DS','DDS','SIGCRIT','DSLUM','L_I','REFF','REFF_T')>\n",
       "array([ (5924799, 0, 4, 0.516, 235.5049, 0.4103732, -43.39795, 0.02464401, 159.1297, 1.69, -0.1901096, -0.1689666, 21.85, 20.40662, 1.669221, [-0.0645, -1.1652, 0.4174, -0.5274], [-1.0907, 0.0419, 0.4262, -0.9499], [8.2477, 3.7788, -0.8802, -8.4285], [5.182, 0.0, 43.768, 5.612], [0.0, 0.0, 0.0, 0.0], [0.0, 0.0, 0.0, 0.0], 1280.11353, 2942.02856, -22.9038792, 19.9553566, 0.515999973, 1746.35, 1024.91, 0.0, 12636.8, 0.0, 0.0, 0.0)], \n",
       "      dtype=[('LENSID', '>i4'), ('FLAGTYPE', '>i2'), ('NIMG', '>i2'), ('ZLENS', '>f8'), ('VELDISP', '>f8'), ('ELLIP', '>f8'), ('PHIE', '>f8'), ('GAMMA', '>f8'), ('PHIG', '>f8'), ('ZSRC', '>f8'), ('XSRC', '>f8'), ('YSRC', '>f8'), ('MAGI_IN', '>f8'), ('MAGI', '>f8'), ('IMSEP', '>f8'), ('XIMG', '>f8', (4,)), ('YIMG', '>f8', (4,)), ('MAG', '>f8', (4,)), ('DELAY', '>f8', (4,)), ('KAPPA', '>f8', (4,)), ('FSTAR', '>f8', (4,)), ('DD', '>f8'), ('DDLUM', '>f8'), ('ABMAG_I', '>f8'), ('APMAG_I', '>f8'), ('KCORR', '>f8'), ('DS', '>f8'), ('DDS', '>f8'), ('SIGCRIT', '>f8'), ('DSLUM', '>f8'), ('L_I', '>f8'), ('REFF', '>f8'), ('REFF_T', '>f8')])"
      ]
     },
     "execution_count": 6,
     "metadata": {},
     "output_type": "execute_result"
    }
   ],
   "source": [
    "test_lens = db.get_lens(5924799)\n",
    "test_lens"
   ]
  },
  {
   "cell_type": "code",
   "execution_count": 7,
   "metadata": {
    "collapsed": false
   },
   "outputs": [
    {
     "name": "stdout",
     "output_type": "stream",
     "text": [
      "om10.plot_lens: plotting image configuration of lens ID  5924799\n",
      "om10.plot_lens: lens, image magnitudes: 19.9553566 [ 19.55916786  20.40661523  21.98854659  19.53562427]\n"
     ]
    },
    {
     "data": {
      "image/png": "[encoded data removed]",
      "text/plain": [
       "<matplotlib.figure.Figure at 0x10669cd90>"
      ]
     },
     "metadata": {},
     "output_type": "display_data"
    }
   ],
   "source": [
    "om10.plot_lens(test_lens)"
   ]
  },
  {
   "cell_type": "code",
   "execution_count": 10,
   "metadata": {
    "collapsed": false
   },
   "outputs": [
    {
     "data": {
      "text/plain": [
       "(<Column name='XIMG' unit=None format=None description=None>\n",
       " array([[-0.2291,  0.5897, -1.1676,  0.3106]]),\n",
       " <Column name='YIMG' unit=None format=None description=None>\n",
       " array([[-0.7459, -0.6133,  0.3543,  0.4498]]))"
      ]
     },
     "execution_count": 10,
     "metadata": {},
     "output_type": "execute_result"
    }
   ],
   "source": [
    "test_lens['XIMG'], test_lens['YIMG']"
   ]
  },
  {
   "cell_type": "code",
   "execution_count": 8,
   "metadata": {
    "collapsed": false
   },
   "outputs": [],
   "source": [
    "input_cat = om10.DB(catalog='./input_cat_for_eric.fits')"
   ]
  },
  {
   "cell_type": "code",
   "execution_count": 10,
   "metadata": {
    "collapsed": false
   },
   "outputs": [
    {
     "data": {
      "text/html": [
       "<table id=\"table4448040016\"><thead><tr><th>LENSID</th><th>RA</th><th>DEC</th><th>...</th><th>I</th><th>Z</th></tr></thead><tr><td>5924799.0</td><td>34.64855907</td><td>-7.843399404</td><td>...</td><td>18.92477</td><td>18.41967</td></tr><tr><td>5924799.0</td><td>34.6485409841</td><td>-7.84370237622</td><td>...</td><td>17.2676578609</td><td>17.2377178609</td></tr><tr><td>5924799.0</td><td>34.6482323468</td><td>-7.84338776511</td><td>...</td><td>18.1151052333</td><td>18.0851652333</td></tr><tr><td>5924799.0</td><td>34.6486761094</td><td>-7.84328101511</td><td>...</td><td>19.6970365894</td><td>19.6670965894</td></tr><tr><td>5924799.0</td><td>34.6484111865</td><td>-7.84366326511</td><td>...</td><td>17.2441142721</td><td>17.2141742721</td></tr></table>"
      ],
      "text/plain": [
       "<Table rows=5 names=('LENSID','RA','DEC','XIMG','YIMG','G','R','I','Z')>\n",
       "array([ (5924799.0, 34.64855907, -7.843399404, 0.0, 0.0, 21.69803, 20.01616, 18.92477, 18.41967),\n",
       "       (5924799.0, 34.64854098413567, -7.843702376222223, -0.0645, -1.0907, 17.544747860919642, 17.533567860919643, 17.26765786091964, 17.23771786091964),\n",
       "       (5924799.0, 34.64823234675794, -7.843387765111111, -1.1652, 0.0419, 18.392195233289577, 18.381015233289578, 18.115105233289576, 18.085165233289576),\n",
       "       (5924799.0, 34.64867610937627, -7.843281015111112, 0.4174, 0.4262, 19.974126589432686, 19.962946589432686, 19.697036589432685, 19.667096589432685),\n",
       "       (5924799.0, 34.648411186514025, -7.843663265111111, -0.5274, -0.9499, 17.521204272123548, 17.510024272123548, 17.244114272123547, 17.214174272123547)], \n",
       "      dtype=[('LENSID', '>f8'), ('RA', '>f8'), ('DEC', '>f8'), ('XIMG', '>f8'), ('YIMG', '>f8'), ('G', '>f8'), ('R', '>f8'), ('I', '>f8'), ('Z', '>f8')])"
      ]
     },
     "execution_count": 10,
     "metadata": {},
     "output_type": "execute_result"
    }
   ],
   "source": [
    "test_sim = input_cat.get_lens(5924799)\n",
    "test_sim"
   ]
  },
  {
   "cell_type": "code",
   "execution_count": 11,
   "metadata": {
    "collapsed": false
   },
   "outputs": [
    {
     "data": {
      "text/plain": [
       "[<matplotlib.lines.Line2D at 0x1092b6090>]"
      ]
     },
     "execution_count": 11,
     "metadata": {},
     "output_type": "execute_result"
    },
    {
     "data": {
      "image/png": "[encoded data removed]",
      "text/plain": [
       "<matplotlib.figure.Figure at 0x1092011d0>"
      ]
     },
     "metadata": {},
     "output_type": "display_data"
    }
   ],
   "source": [
    "plt.plot(3600*test_sim['RA'][0],3600*test_sim['DEC'][0],color='Orange',marker='+')\n",
    "plt.plot(3600*test_sim['RA'][1:],3600*test_sim['DEC'][1:],color='Blue',marker='+',linestyle='None')"
   ]
  },
  {
   "cell_type": "markdown",
   "metadata": {},
   "source": [
    "input catalog is mirrored in RA from what it should be..."
   ]
  },
  {
   "cell_type": "markdown",
   "metadata": {
    "collapsed": true
   },
   "source": [
    "Update: now fixed"
   ]
  },
  {
   "cell_type": "code",
   "execution_count": null,
   "metadata": {
    "collapsed": true
   },
   "outputs": [],
   "source": []
  }
 ],
 "metadata": {
  "kernelspec": {
   "display_name": "Python 2",
   "language": "python",
   "name": "python2"
  },
  "language_info": {
   "codemirror_mode": {
    "name": "ipython",
    "version": 2
   },
   "file_extension": ".py",
   "mimetype": "text/x-python",
   "name": "python",
   "nbconvert_exporter": "python",
   "pygments_lexer": "ipython2",
   "version": "2.7.9"
  }
 },
 "nbformat": 4,
 "nbformat_minor": 0
}
